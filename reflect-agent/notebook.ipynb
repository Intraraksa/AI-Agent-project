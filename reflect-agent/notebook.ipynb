{
 "cells": [
  {
   "cell_type": "code",
   "execution_count": 1,
   "id": "9d79b7e7",
   "metadata": {},
   "outputs": [
    {
     "data": {
      "text/plain": [
       "True"
      ]
     },
     "execution_count": 1,
     "metadata": {},
     "output_type": "execute_result"
    }
   ],
   "source": [
    "from langchain_core.prompts import ChatPromptTemplate\n",
    "from langchain_openai import ChatOpenAI\n",
    "from langchain_google_genai import ChatGoogleGenerativeAI\n",
    "from langgraph.graph.message import add_messages\n",
    "from langgraph.graph import StateGraph,START,END\n",
    "# from utils import nodes\n",
    "from dotenv import load_dotenv\n",
    "import os\n",
    "from typing import Annotated, List, TypedDict\n",
    "from utils.nodes import content_node, reflection_node, should_continue_node, State\n",
    "\n",
    "load_dotenv()"
   ]
  },
  {
   "cell_type": "code",
   "execution_count": 2,
   "id": "0aa8b998",
   "metadata": {},
   "outputs": [],
   "source": [
    "from utils.custom_prompt import AgentPrompt\n",
    "\n"
   ]
  },
  {
   "cell_type": "code",
   "execution_count": 2,
   "id": "543f59ab",
   "metadata": {},
   "outputs": [],
   "source": [
    "state = State()\n",
    "state[\"messages\"] = \"hello\"\n",
    "\n",
    "a = content_node({\"messages\":state})"
   ]
  },
  {
   "cell_type": "code",
   "execution_count": 4,
   "id": "f135924a",
   "metadata": {},
   "outputs": [
    {
     "data": {
      "text/plain": [
       "AIMessage(content='Here are a few LinkedIn post options based on the simple prompt \"hello,\" targeting recruiters and hiring managers.  Each option takes a different approach to engagement:\\n\\n\\n**Option 1:  Focus on a specific skill/industry need**\\n\\n**Headline:** Hello, Recruiters!  Are you struggling to find skilled [Skill/Profession] professionals?\\n\\n**Body:**  Hello everyone!  I\\'ve noticed a significant demand for skilled [Skill/Profession] professionals in the [Industry] sector.  Many companies are facing challenges in filling these roles due to [briefly explain the challenge - e.g., a skills gap, high competition].  If you\\'re a recruiter or hiring manager looking for top talent in this area, let\\'s connect!  I\\'m happy to share insights and discuss potential solutions. #recruiting #[Industry] #[Skill] #talent\\n\\n\\n**Option 2:  Focus on candidate experience**\\n\\n**Headline:** Hello, Hiring Managers!  Let\\'s talk about candidate experience.\\n\\n**Body:**  Hello!  In today\\'s competitive job market, a positive candidate experience is crucial for attracting and retaining top talent.  A smooth and efficient hiring process not only improves your employer brand but also increases the likelihood of securing the best candidates.  What are your top priorities when it comes to candidate experience?  Let\\'s discuss best practices and share ideas. #recruiting #candidateexperience #hiring #employerbranding\\n\\n\\n**Option 3:  A more direct, concise approach**\\n\\n**Headline:** Hello!  Let\\'s connect.\\n\\n**Body:**  Hello, recruiters and hiring managers!  I\\'m [Your Name/Company Name], and I\\'m passionate about connecting top talent with great opportunities.  I specialize in [Your Niche/Industry].  Feel free to connect with me to discuss your recruiting needs or if you\\'re looking for talented professionals in [Your Niche/Industry]. #recruiting #[Your Niche/Industry] #networking\\n\\n\\n**Option 4:  Problem/Solution focused**\\n\\n**Headline:** Hello!  Solving the talent acquisition puzzle.\\n\\n**Body:**  Hello, fellow recruiters and hiring managers!  The current talent market presents unique challenges.  Finding qualified candidates, managing the hiring process efficiently, and ensuring a positive candidate experience can be demanding.  What are your biggest hurdles in talent acquisition?  Let\\'s discuss strategies and solutions to overcome these challenges. #recruiting #talentacquisition #hiringchallenges #solutions\\n\\n\\n**Remember to:**\\n\\n* **Add a professional picture:** This is crucial for LinkedIn.\\n* **Use relevant hashtags:**  Increase visibility.\\n* **Engage with comments:** Respond to comments and questions promptly.\\n* **Tailor the post:** Adjust the content based on your specific expertise and target audience.\\n\\n\\nThese examples provide a starting point.  The best approach will depend on your specific goals and the message you want to convey.', additional_kwargs={}, response_metadata={'prompt_feedback': {'block_reason': 0, 'safety_ratings': []}, 'finish_reason': 'STOP', 'model_name': 'gemini-1.5-flash', 'safety_ratings': []}, id='run--14d62b41-26ac-4abc-9f88-0e4f577c7b3c-0', usage_metadata={'input_tokens': 52, 'output_tokens': 607, 'total_tokens': 659, 'input_token_details': {'cache_read': 0}})"
      ]
     },
     "execution_count": 4,
     "metadata": {},
     "output_type": "execute_result"
    }
   ],
   "source": [
    "a[\"messages\"]"
   ]
  },
  {
   "cell_type": "markdown",
   "id": "3e7d9959",
   "metadata": {},
   "source": [
    "## node construction"
   ]
  },
  {
   "cell_type": "code",
   "execution_count": 2,
   "id": "d2f3aedb",
   "metadata": {},
   "outputs": [],
   "source": [
    "workflow = StateGraph(State)\n",
    "workflow.add_node(\"content_creator\", content_node)\n",
    "workflow.add_edge(START, \"content_creator\"),\n",
    "workflow.add_edge(\"content_creator\", END)\n",
    "graph = workflow.compile()"
   ]
  },
  {
   "cell_type": "code",
   "execution_count": 3,
   "id": "3f459840",
   "metadata": {},
   "outputs": [],
   "source": [
    "input = \"please write linkedin post about generative AI in education\"\n",
    "result = graph.invoke({\"messages\":input})"
   ]
  },
  {
   "cell_type": "code",
   "execution_count": 6,
   "id": "8a02164d",
   "metadata": {},
   "outputs": [
    {
     "name": "stdout",
     "output_type": "stream",
     "text": [
      "Here are a few options for a LinkedIn post about generative AI in education, targeting recruiters and hiring managers:\n",
      "\n",
      "**Option 1 (Focus on Opportunity):**\n",
      "\n",
      "**Headline:** Generative AI: Revolutionizing Education & Creating Exciting New Roles\n",
      "\n",
      "**Body:**\n",
      "\n",
      "Generative AI is no longer a futuristic concept – it's transforming education right now.  From personalized learning experiences to automated grading and insightful data analysis, its impact is profound.  This presents incredible opportunities for educators, developers, and data scientists.  We need skilled professionals who can:\n",
      "\n",
      "* Develop and implement AI-powered educational tools.\n",
      "* Design engaging and effective AI-integrated curricula.\n",
      "* Analyze learning data to optimize educational outcomes.\n",
      "* Ensure ethical and responsible use of AI in the classroom.\n",
      "\n",
      "Are you ready to be part of this exciting evolution?  Let's connect and discuss how your skills can contribute to the future of learning. #GenerativeAI #EdTech #AIinEducation #Hiring #EducationTechnology #FutureofWork\n",
      "\n",
      "\n",
      "**Option 2 (Focus on Challenges & Solutions):**\n",
      "\n",
      "**Headline:** Generative AI in Education: Navigating the Challenges & Embracing the Potential\n",
      "\n",
      "**Body:**\n",
      "\n",
      "Generative AI offers incredible potential for education, but it also presents challenges.  Concerns around bias, plagiarism, and the ethical implications of AI-driven assessment require careful consideration.  To harness the power of generative AI responsibly, we need professionals who can:\n",
      "\n",
      "* Develop robust AI systems that mitigate bias and promote fairness.\n",
      "* Create effective strategies for detecting and addressing AI-generated plagiarism.\n",
      "* Design educational frameworks that integrate AI ethically and responsibly.\n",
      "* Train educators on the effective use and limitations of generative AI tools.\n",
      "\n",
      "Are you a skilled problem-solver with a passion for education?  Let's discuss how your expertise can help shape the future of AI in education. #GenerativeAI #EdTech #AIethics #Education #ProblemSolving #Innovation\n",
      "\n",
      "\n",
      "**Option 3 (Focus on Specific Skills):**\n",
      "\n",
      "**Headline:**  Top Skills Needed for Generative AI in Education – Are You Ready?\n",
      "\n",
      "**Body:**\n",
      "\n",
      "The rapid advancement of generative AI in education demands a new set of skills.  Recruiters are actively seeking professionals with expertise in:\n",
      "\n",
      "* **Prompt Engineering:** Crafting effective prompts to elicit desired outputs from AI models.\n",
      "* **Data Analysis & Interpretation:** Extracting meaningful insights from educational data generated by AI systems.\n",
      "* **AI Ethics & Responsible AI Development:** Ensuring fairness, transparency, and accountability in AI-powered educational tools.\n",
      "* **Curriculum Design & Instructional Design:** Integrating AI effectively into learning experiences.\n",
      "\n",
      "If you possess these skills or are eager to develop them, connect with me.  I'm always looking for talented individuals to join our team working at the forefront of educational innovation. #GenerativeAI #EdTech #AISkills #Hiring #Education #JobOpportunities\n",
      "\n",
      "\n",
      "**Remember to:**\n",
      "\n",
      "* **Add a relevant image or video** to increase engagement.\n",
      "* **Use relevant hashtags** to expand your reach.\n",
      "* **Engage with comments** and answer questions.\n",
      "* **Tailor the post** to your specific company or area of expertise.\n",
      "\n",
      "\n",
      "Choose the option that best suits your style and audience, and remember to adapt it to your specific needs.\n"
     ]
    }
   ],
   "source": [
    "print(result[\"messages\"][-1].content)"
   ]
  },
  {
   "cell_type": "code",
   "execution_count": 2,
   "id": "10498192",
   "metadata": {},
   "outputs": [],
   "source": [
    "workflow = StateGraph(State)\n",
    "workflow.add_node(\"content_creator\", content_node)\n",
    "workflow.add_node(\"reflection\", reflection_node)\n",
    "workflow.add_edge(START, \"content_creator\"),\n",
    "workflow.add_conditional_edges(\"content_creator\", \n",
    "                               should_continue_node, {\n",
    "                                   \"continue\": \"reflection\",\n",
    "                                   \"end\": END,\n",
    "                               })\n",
    "workflow.add_edge(\"reflection\", \"content_creator\")\n",
    "graph = workflow.compile()"
   ]
  },
  {
   "cell_type": "code",
   "execution_count": 4,
   "id": "799a7656",
   "metadata": {},
   "outputs": [],
   "source": [
    "input = \"please write linkedin post about generative AI in education\"\n",
    "result = graph.invoke({\"messages\":input})"
   ]
  },
  {
   "cell_type": "code",
   "execution_count": 13,
   "id": "79b6d549",
   "metadata": {},
   "outputs": [],
   "source": [
    "llm = ChatGoogleGenerativeAI(model=\"gemini-1.5-flash\", temperature=0.2)"
   ]
  },
  {
   "cell_type": "code",
   "execution_count": 15,
   "id": "f8a6a6bb",
   "metadata": {},
   "outputs": [
    {
     "data": {
      "text/plain": [
       "AIMessage(content=\"I am a large language model, trained by Google.  I'm a computer program designed to process information and respond to a wide range of prompts and questions.  I don't have personal experiences, feelings, or a physical body.  My purpose is to provide helpful and informative responses based on the vast amount of text data I've been trained on.\", additional_kwargs={}, response_metadata={'prompt_feedback': {'block_reason': 0, 'safety_ratings': []}, 'finish_reason': 'STOP', 'model_name': 'gemini-1.5-flash', 'safety_ratings': []}, id='run--03ee0f4f-cd17-4a31-9786-36075350cd89-0', usage_metadata={'input_tokens': 4, 'output_tokens': 75, 'total_tokens': 79, 'input_token_details': {'cache_read': 0}})"
      ]
     },
     "execution_count": 15,
     "metadata": {},
     "output_type": "execute_result"
    }
   ],
   "source": [
    "llm.invoke(\"who are you?\")"
   ]
  },
  {
   "cell_type": "code",
   "execution_count": 5,
   "id": "a553a47a",
   "metadata": {},
   "outputs": [
    {
     "data": {
      "text/plain": [
       "{'messages': [HumanMessage(content='please write linkedin post about generative AI in education', additional_kwargs={}, response_metadata={}, id='eb079462-a2a2-41e8-8cef-28ab6ca9e3cd'),\n",
       "  AIMessage(content=\"Here are a few options for a LinkedIn post about generative AI in education, targeting recruiters and hiring managers:\\n\\n**Option 1 (Focus on Opportunity):**\\n\\n**Headline:** Generative AI: Revolutionizing Education & Creating New Talent Needs\\n\\n**Body:**\\n\\nGenerative AI is no longer a futuristic concept; it's transforming education today.  From personalized learning experiences to automated grading and insightful feedback, its impact is undeniable.  This shift creates exciting opportunities for educators and a surge in demand for professionals with expertise in AI integration, curriculum design, and educational technology.  Are you ready to embrace this evolution?  Let's discuss how your organization can leverage generative AI and attract top talent in this rapidly growing field. #generativeAI #edtech #AIinEducation #futureofwork #recruiting #hiring\\n\\n\\n**Option 2 (Focus on Challenges & Solutions):**\\n\\n**Headline:** Navigating the Generative AI Landscape in Education: Challenges & Opportunities for Recruiters\\n\\n**Body:**\\n\\nGenerative AI presents both incredible potential and significant challenges for the education sector.  Concerns around plagiarism, bias in algorithms, and the ethical implications require careful consideration.  However, forward-thinking institutions are already finding innovative solutions.  As recruiters, understanding these challenges and identifying candidates with the skills to address them is crucial.  Let's connect and discuss how to attract and retain talent equipped to navigate this evolving landscape. #generativeAI #edtech #AIethics #education #recruiting #talent #challenges #opportunities\\n\\n\\n**Option 3 (Focus on Specific Skills):**\\n\\n**Headline:**  The Skills Gap in Generative AI Education: What Recruiters Need to Know\\n\\n**Body:**\\n\\nThe rapid adoption of generative AI in education is creating a significant skills gap.  We need educators, developers, and data scientists who understand how to effectively integrate these tools, address ethical concerns, and create engaging learning experiences.  Are you looking for candidates with expertise in prompt engineering, AI curriculum development, or data analysis in educational settings?  Let's discuss how to identify and attract the talent your organization needs to thrive in this new era. #generativeAI #edtech #skillsgap #AI #recruiting #hiring #datascience #education\\n\\n\\n**Option 4 (Question-based approach):**\\n\\n**Headline:** How is Generative AI Reshaping the Future of Education?\\n\\n**Body:**\\n\\nGenerative AI is rapidly changing the educational landscape, offering personalized learning, automated feedback, and innovative teaching methods.  But what does this mean for recruiters?  How can we identify candidates with the skills to leverage this technology effectively?  What are the key skills and experience levels we should be looking for?  Let's discuss the implications of generative AI in education and how to build a talent pipeline for the future. #generativeAI #edtech #futureofwork #recruiting #education #AI\\n\\n\\n**Remember to:**\\n\\n* **Include a relevant image or video** to increase engagement.\\n* **Use relevant hashtags** to expand your reach.\\n* **Engage with comments and questions** to foster discussion.\\n\\n\\nChoose the option that best suits your style and target audience.  Remember to tailor the post to your specific expertise and experience for maximum impact.\", additional_kwargs={}, response_metadata={'prompt_feedback': {'block_reason': 0, 'safety_ratings': []}, 'finish_reason': 'STOP', 'model_name': 'gemini-1.5-flash', 'safety_ratings': []}, id='run--ea3eed8e-8275-4b88-bc3e-99ca6b637a7c-0', usage_metadata={'input_tokens': 102, 'output_tokens': 668, 'total_tokens': 770, 'input_token_details': {'cache_read': 0}}),\n",
       "  AIMessage(content='The provided LinkedIn post options are good starting points but could be significantly improved for higher engagement and impact.  Here\\'s a graded assessment and suggestions for each:\\n\\n\\n**Option 1 (Focus on Opportunity):**\\n\\n* **Grade:** B-\\n* **Feedback:**  It\\'s a decent overview, but lacks a strong call to action beyond a vague \"Let\\'s discuss.\"  The language is a bit generic.\\n* **Improvements:**  Instead of \"Let\\'s discuss,\" propose a concrete next step.  For example: \"Share your thoughts on how your organization is preparing for this shift in the comments below!\" or \"I\\'m hosting a webinar on this topic next week – link in bio.\"  Add a specific example of generative AI in education to make it more relatable (e.g., \"Imagine AI tutors providing personalized feedback to students 24/7\").\\n\\n\\n**Option 2 (Focus on Challenges & Solutions):**\\n\\n* **Grade:** B+\\n* **Feedback:** This option acknowledges the complexities, which is crucial. However, it needs a stronger focus on solutions and less on simply stating challenges.\\n* **Improvements:**  Instead of just listing challenges, briefly mention successful strategies or case studies.  For example: \"One university is using AI to identify students at risk of dropping out, allowing for proactive intervention.\"  End with a compelling question to encourage interaction, such as: \"What innovative solutions have you seen in your organization?\"\\n\\n\\n**Option 3 (Focus on Specific Skills):**\\n\\n* **Grade:** A-\\n* **Feedback:** This is the strongest option because it directly addresses the needs of recruiters.  However, it could benefit from more specific examples of desired skills.\\n* **Improvements:** Instead of listing general skills, provide concrete examples: \"Candidates proficient in Python for AI model development, experience with learning management systems (LMS) integration, or familiarity with ethical frameworks for AI in education.\"  Consider adding a statistic about the skills gap to further emphasize the point.\\n\\n\\n**Option 4 (Question-based approach):**\\n\\n* **Grade:** C+\\n* **Feedback:** While the question is engaging, it\\'s too broad and doesn\\'t offer a clear direction for the conversation.\\n* **Improvements:**  Instead of three general questions, focus on one specific, thought-provoking question.  For example: \"What\\'s the biggest ethical challenge you foresee with the implementation of generative AI in education, and how can we mitigate it?\"  This encourages a more focused and insightful discussion.\\n\\n\\n**Overall Suggestions for All Options:**\\n\\n* **Stronger Visuals:**  A compelling image or short video showcasing generative AI in an educational setting would significantly boost engagement.  Think visually appealing graphics, short clips of AI-powered learning tools, or even a relevant infographic.\\n* **More Concise Language:**  LinkedIn posts perform better when they are concise and to the point.  Avoid overly long sentences and paragraphs.\\n* **Targeted Audience:**  While the posts target recruiters, consider further segmenting your audience. Are you targeting recruiters in higher education, K-12, or corporate training?  Tailoring the language and examples to a specific niche will increase relevance.\\n* **Personal Branding:**  Weave in your own expertise and experience.  What unique perspective can you offer on this topic?  Sharing a personal anecdote or a relevant project you\\'ve worked on will make the post more authentic and memorable.\\n* **Call to Action (CTA):**  Every post needs a clear CTA.  This could be to comment, share, visit your website, connect with you, or attend an event.\\n\\n\\nBy incorporating these improvements, you can create LinkedIn posts that are not only informative but also highly engaging and effective in reaching your target audience. Remember to A/B test different approaches to see what resonates best with your network.', additional_kwargs={}, response_metadata={'prompt_feedback': {'block_reason': 0, 'safety_ratings': []}, 'finish_reason': 'STOP', 'model_name': 'gemini-1.5-flash', 'safety_ratings': []}, id='run--1db351e7-9036-4778-8768-07dcb99f7cb4-0', usage_metadata={'input_tokens': 972, 'output_tokens': 795, 'total_tokens': 1767, 'input_token_details': {'cache_read': 0}}),\n",
       "  AIMessage(content=\"Here are a few revised LinkedIn post options, incorporating the feedback from the previous response:\\n\\n\\n**Option 1 (Focus on Opportunity):  Revised**\\n\\n**Headline:** Generative AI:  Unlocking Personalized Learning & New Talent Opportunities in Education\\n\\n**Body:**\\n\\nGenerative AI is revolutionizing education, creating personalized learning experiences that adapt to individual student needs.  Imagine AI tutors providing 24/7 feedback, or AI-powered tools crafting customized lesson plans. This creates a massive demand for educators, developers, and data scientists skilled in AI integration.  Is your organization ready to capitalize on this?  Share your thoughts on how you're preparing for this shift in the comments below! #generativeAI #edtech #AIinEducation #personalizedlearning #futureofwork #recruiting #hiring #education\\n\\n\\n**(Image: A visually appealing graphic showing a student interacting with an AI-powered learning tool.)**\\n\\n\\n**Option 2 (Focus on Challenges & Solutions): Revised**\\n\\n**Headline:**  Generative AI in Education: Addressing the Challenges, Seizing the Opportunities\\n\\n**Body:**\\n\\nGenerative AI presents both exciting possibilities and significant challenges in education. Concerns about plagiarism and algorithmic bias are valid, but innovative solutions are emerging.  For example, one university uses AI to identify at-risk students, enabling proactive intervention.  As recruiters, understanding these challenges and identifying candidates with solutions-oriented skills is crucial. What innovative solutions have you seen in your organization? #generativeAI #edtech #AIethics #education #recruiting #talent #challenges #opportunities #highereducation\\n\\n\\n**(Image: An infographic highlighting the challenges and solutions related to generative AI in education.)**\\n\\n\\n**Option 3 (Focus on Specific Skills): Revised**\\n\\n**Headline:**  The Critical Skills Gap in Generative AI Education:  Recruiting for the Future\\n\\n**Body:**\\n\\nThe rapid adoption of generative AI in education has created a significant skills gap.  We urgently need educators and developers with specific skills:  proficiency in Python for AI model development, experience integrating AI tools with learning management systems (LMS), and familiarity with ethical frameworks for AI in education.  According to a recent study, 70% of educational institutions lack professionals with these skills.  Are you looking for these candidates? Let's connect! #generativeAI #edtech #skillsgap #AI #recruiting #hiring #datascience #education #python #LMS\\n\\n\\n**(Image: A short video showcasing an AI-powered educational tool in action.)**\\n\\n\\n**Option 4 (Question-based approach): Revised**\\n\\n**Headline:** The Ethical Imperative: Generative AI in Education\\n\\n**Body:**\\n\\nGenerative AI offers incredible potential in education, but ethical considerations are paramount.  What's the biggest ethical challenge you foresee with the implementation of generative AI in education, and how can we proactively mitigate it?  Let's discuss the responsible integration of this technology. #generativeAI #edtech #AIethics #responsibleAI #recruiting #education #futureofwork\\n\\n\\n**(Image: A thought-provoking image related to the ethical implications of AI.)**\\n\\n\\n**Key Improvements Across All Options:**\\n\\n* **Stronger Headlines:** More concise and attention-grabbing.\\n* **Specific Examples:**  Illustrate points with concrete examples and data.\\n* **Clearer Calls to Action:**  Encourage engagement and interaction.\\n* **Targeted Hashtags:**  More specific and relevant to the topic and audience.\\n* **Visual Appeal:**  Suggestions for relevant and engaging visuals.\\n\\n\\nRemember to tailor these posts to your specific expertise and experience for maximum impact.  A/B testing different approaches will help you determine what resonates best with your network.\", additional_kwargs={}, response_metadata={'prompt_feedback': {'block_reason': 0, 'safety_ratings': []}, 'finish_reason': 'STOP', 'model_name': 'gemini-1.5-flash', 'safety_ratings': []}, id='run--1934bf07-213a-47ec-aa68-ed7299aa8359-0', usage_metadata={'input_tokens': 1966, 'output_tokens': 767, 'total_tokens': 2733, 'input_token_details': {'cache_read': 0}})]}"
      ]
     },
     "execution_count": 5,
     "metadata": {},
     "output_type": "execute_result"
    }
   ],
   "source": [
    "result"
   ]
  },
  {
   "cell_type": "code",
   "execution_count": null,
   "id": "d9787bd1",
   "metadata": {},
   "outputs": [],
   "source": []
  }
 ],
 "metadata": {
  "kernelspec": {
   "display_name": "env",
   "language": "python",
   "name": "python3"
  },
  "language_info": {
   "codemirror_mode": {
    "name": "ipython",
    "version": 3
   },
   "file_extension": ".py",
   "mimetype": "text/x-python",
   "name": "python",
   "nbconvert_exporter": "python",
   "pygments_lexer": "ipython3",
   "version": "3.10.9"
  }
 },
 "nbformat": 4,
 "nbformat_minor": 5
}
